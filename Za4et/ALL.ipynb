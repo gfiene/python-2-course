{
 "cells": [
  {
   "cell_type": "markdown",
   "id": "40f3d914",
   "metadata": {},
   "source": [
    "# 1. Напишите программу, которая принимает на вход фразу и составляет аббревиатуру по первым буквам слов:\n",
    "\n",
    "Today I learned → TIL Высшее учебное заведение → ВУЗ Кот обладает талантом → КОТ Если слово начинается не с буквы, игнорируйте его:\n",
    "\n",
    "Ар 2 Ди #2 → АД Разделителями слов считаются только пробельные символы. Дефис, дробь и прочие можно не учитывать:\n",
    "\n",
    "Анна-Мария Волхонская → АВ"
   ]
  },
  {
   "cell_type": "code",
   "execution_count": 13,
   "id": "80a7a671",
   "metadata": {},
   "outputs": [
    {
     "name": "stdout",
     "output_type": "stream",
     "text": [
      "ХУЙ\n"
     ]
    }
   ],
   "source": [
    "phrase = input()\n",
    "abbr = \"\"\n",
    "i = 0\n",
    "while i != len(phrase):\n",
    "    if phrase[i].isalpha():\n",
    "        abbr += phrase[i]\n",
    "    while phrase[i] != \" \" and i+1 < len(phrase):\n",
    "        i += 1\n",
    "    if i < len(phrase):    \n",
    "        i += 1\n",
    "print(abbr.upper())\n"
   ]
  },
  {
   "cell_type": "markdown",
   "id": "834105be",
   "metadata": {},
   "source": [
    "# 2. Напишите программу, которая считает, сколько раз каждая цифра встречается в числе. Гарантируется, что на вход подаются только положительные целые числа, не выходящие за диапазон int."
   ]
  },
  {
   "cell_type": "code",
   "execution_count": null,
   "id": "ef79dd68",
   "metadata": {},
   "outputs": [
    {
     "name": "stdout",
     "output_type": "stream",
     "text": [
      "{'1': 4, '2': 2, '3': 1, '4': 1, '5': 1, '6': 3, '7': 3, '8': 4}\n"
     ]
    }
   ],
   "source": [
    "num = input()\n",
    "added = set()\n",
    "counter = dict()\n",
    "for i in num:\n",
    "    if i not in counter:\n",
    "        counter[i] = 1\n",
    "    else:\n",
    "        counter[i] += 1\n",
    "print(counter)"
   ]
  },
  {
   "cell_type": "markdown",
   "id": "7cee453e",
   "metadata": {},
   "source": [
    "# 3. Реализуйте генератор fibonacci(n), который будет выдавать n чисел из последовательности Фибоначчи.\n",
    "for num in fibonacci(6):\n",
    "    print(num)"
   ]
  },
  {
   "cell_type": "code",
   "execution_count": null,
   "id": "81dedd0f",
   "metadata": {},
   "outputs": [],
   "source": [
    "def fibonacci(n):\n",
    "    a, b = 0, 1\n",
    "    for i in range(n):\n",
    "        yield a\n",
    "        a, b = b, a + b\n",
    "\n",
    "for num in fibonacci(int(input())):\n",
    "    print(num)"
   ]
  },
  {
   "cell_type": "markdown",
   "id": "b5d91db7",
   "metadata": {},
   "source": [
    "# Напишите класс FlattenIterator, который принимает вложенный список (любой глубины) и итеративно возвращает все элементы в плоском виде.\n",
    "\n",
    "nested_list = [1, [2, [3, 4], 5], 6]\n",
    "flat = FlattenIterator(nested_list)\n",
    "for num in flat:\n",
    "    print(num)\n",
    "(!) Решение не должно использовать рекурсию в next, а работать итеративно"
   ]
  },
  {
   "cell_type": "code",
   "execution_count": null,
   "id": "922602ca",
   "metadata": {},
   "outputs": [
    {
     "name": "stdout",
     "output_type": "stream",
     "text": [
      "1\n",
      "2\n",
      "3\n",
      "4\n",
      "5\n",
      "6\n"
     ]
    }
   ],
   "source": [
    "class FlattenIterator:\n",
    "    def __init__(self, nested_list):\n",
    "        self.stack = []\n",
    "        self._prepare_stack(nested_list)\n",
    "    def _prepare_stack(self, nested):\n",
    "        stack = [nested]\n",
    "        while stack:\n",
    "            current = stack.pop()\n",
    "            if isinstance(current, list):\n",
    "                stack.extend(reversed(current))\n",
    "            else:\n",
    "                self.stack.append(current)\n",
    "    def __iter__(self):\n",
    "        return self\n",
    "    def __next__(self):\n",
    "        if not self.stack:\n",
    "            raise StopIteration\n",
    "        return self.stack.pop(0)\n",
    "\n",
    "nested_list = [1, [2, [3, 4], 5], 6]\n",
    "flat = FlattenIterator(nested_list)\n",
    "for num in flat:\n",
    "    print(num)"
   ]
  },
  {
   "cell_type": "markdown",
   "id": "26986145",
   "metadata": {},
   "source": [
    "# 4. Дано число rowIndex, верните rowIndexth (0-indexed) строку паскаль треугольника\n",
    "## В Паскаль треугольнике, каждое числов это сумма двух предыдущих над ним.\n",
    "### Example 1:\n",
    "Input: rowIndex = 3\n",
    "Output: [1,3,3,1]\n",
    "\n",
    "### Example 2:\n",
    "Input: rowIndex = 0\n",
    "Output: [1]\n",
    "\n",
    "### Example 3:\n",
    "Input: rowIndex = 1\n",
    "Output: [1,1]"
   ]
  },
  {
   "cell_type": "code",
   "execution_count": 8,
   "id": "5cdfc469",
   "metadata": {},
   "outputs": [
    {
     "name": "stdout",
     "output_type": "stream",
     "text": [
      "[1, 1]\n"
     ]
    }
   ],
   "source": [
    "rowIndex = int(input())\n",
    "row = [1]\n",
    "for _ in range(rowIndex):\n",
    "    row = [1] + [row[i] + row[i+1] for i in range(len(row)-1)] + [1]\n",
    "print(row)"
   ]
  },
  {
   "cell_type": "markdown",
   "id": "13fc8b10",
   "metadata": {},
   "source": [
    "# 5. Дана строка s и целое число k, поменяйте местами первые k символов каждые 2k символов, считая от начала строки.\n",
    "\n",
    "## Если количество символов меньше 2k, но больше или равно k, то поменяйте местами первые k символов, а остальные оставьте исходными.\n",
    "\n",
    "### Example 1:\n",
    "\n",
    "Input: s = \"abcdefg\", k = 2\n",
    "Output: \"bacdfeg\"\n"
   ]
  },
  {
   "cell_type": "code",
   "execution_count": 12,
   "id": "ec9ec714",
   "metadata": {},
   "outputs": [
    {
     "name": "stdout",
     "output_type": "stream",
     "text": [
      "bacd\n"
     ]
    }
   ],
   "source": [
    "s = list(input())\n",
    "k = int(input())\n",
    "for i in range(0, len(s), 2 * k):\n",
    "    s[i:i + k] = reversed(s[i:i + k])\n",
    "print(''.join(s))"
   ]
  },
  {
   "cell_type": "markdown",
   "id": "307c457c",
   "metadata": {},
   "source": [
    "# 6. Создайте систему классов для футбольных команд и игроков. У вас должно быть два основных класса:\n",
    "\n",
    "Player (Игрок)\n",
    "Team (Команда).\n",
    "Игроки будут членами команд, и мы сможем добавлять, удалять и управлять ими через класс Team.\n",
    "\n",
    "В классе Player должны быть атрибуты:\n",
    "Имя\n",
    "Возраст\n",
    "Позиция\n",
    "\n",
    "метод __str__(self) вывод информации об игроке в формате:\n",
    "Name: Иванов\n",
    "Age: 25\n",
    "Position: Нападающий\n",
    "\n",
    "В классе Team должны быть атрибуты:\n",
    "Название команды\n",
    "Главный тренер\n",
    "Список игроков - при инициализации команды, определяется пустой список\n",
    "и методы:\n",
    "\n",
    "Добавить игрока в команду\n",
    "Убрать игрока из команды\n",
    "Вывести список игроков команды"
   ]
  },
  {
   "cell_type": "code",
   "execution_count": null,
   "id": "7bd8b508",
   "metadata": {},
   "outputs": [],
   "source": [
    "class Player:\n",
    "    def __init__(self, name, age, position):\n",
    "        self.name = name\n",
    "        self.age = age\n",
    "        self.position = position\n",
    "\n",
    "    def __str__(self):\n",
    "        return f\"Name: {self.name}\\nAge: {self.age}\\nPosition: {self.position}\"\n",
    "\n",
    "class Team:\n",
    "    def __init__(self, name, coach):\n",
    "        self.name = name\n",
    "        self.coach = coach\n",
    "        self.players = []\n",
    "\n",
    "    def add_player(self, player):\n",
    "        self.players.append(player)\n",
    "\n",
    "    def remove_player(self, player):\n",
    "        if player in self.players:\n",
    "            self.players.remove(player)\n",
    "\n",
    "    def list_players(self):\n",
    "        print(f\"\\nTeam: {self.name}\")\n",
    "        print(f\"Coach: {self.coach}\")\n",
    "        if not self.players:\n",
    "            print(\"No players in the team\")\n",
    "        else:\n",
    "            for player in self.players:\n",
    "                print(\"\\n\" + str(player))\n",
    "\n",
    "if __name__ == \"__main__\":\n",
    "    # Создаем игроков\n",
    "    player1 = Player(\"Иванов\", 25, \"Нападающий\")\n",
    "    player2 = Player(\"Петров\", 30, \"Полузащитник\")\n",
    "    player3 = Player(\"Сидоров\", 28, \"Защитник\")\n",
    "\n",
    "    # Создаем команды\n",
    "    team1 = Team(\"Красные\", \"Краснов\")\n",
    "    team2 = Team(\"Синие\", \"Синёв\")\n",
    "\n",
    "    # Добавляем игроков в команды\n",
    "    team1.add_player(player1)\n",
    "    team1.add_player(player2)\n",
    "    team2.add_player(player3)\n",
    "\n",
    "    # Выводим список игроков в командах\n",
    "    team1.list_players()\n",
    "    team2.list_players()\n",
    "\n",
    "    # Удаляем игрока из команды\n",
    "    team1.remove_player(player2)\n",
    "\n",
    "    # Выводим обновленный список игроков\n",
    "    team1.list_players()"
   ]
  }
 ],
 "metadata": {
  "kernelspec": {
   "display_name": "Python 3",
   "language": "python",
   "name": "python3"
  },
  "language_info": {
   "codemirror_mode": {
    "name": "ipython",
    "version": 3
   },
   "file_extension": ".py",
   "mimetype": "text/x-python",
   "name": "python",
   "nbconvert_exporter": "python",
   "pygments_lexer": "ipython3",
   "version": "3.12.1"
  }
 },
 "nbformat": 4,
 "nbformat_minor": 5
}
