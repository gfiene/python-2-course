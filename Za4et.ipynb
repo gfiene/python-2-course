{
 "cells": [
  {
   "cell_type": "markdown",
   "id": "40f3d914",
   "metadata": {},
   "source": [
    "Напишите программу, которая принимает на вход фразу и составляет аббревиатуру по первым буквам слов:\n",
    "\n",
    "Today I learned → TIL Высшее учебное заведение → ВУЗ Кот обладает талантом → КОТ Если слово начинается не с буквы, игнорируйте его:\n",
    "\n",
    "Ар 2 Ди #2 → АД Разделителями слов считаются только пробельные символы. Дефис, дробь и прочие можно не учитывать:\n",
    "\n",
    "Анна-Мария Волхонская → АВ"
   ]
  },
  {
   "cell_type": "code",
   "execution_count": 13,
   "id": "80a7a671",
   "metadata": {},
   "outputs": [
    {
     "name": "stdout",
     "output_type": "stream",
     "text": [
      "ХУЙ\n"
     ]
    }
   ],
   "source": [
    "phrase = input()\n",
    "abbr = \"\"\n",
    "i = 0\n",
    "while i != len(phrase):\n",
    "    if phrase[i].isalpha():\n",
    "        abbr += phrase[i]\n",
    "    while phrase[i] != \" \" and i+1 < len(phrase):\n",
    "        i += 1\n",
    "    if i < len(phrase):    \n",
    "        i += 1\n",
    "print(abbr.upper())\n"
   ]
  },
  {
   "cell_type": "markdown",
   "id": "834105be",
   "metadata": {},
   "source": [
    "Напишите программу, которая считает, сколько раз каждая цифра встречается в числе. Гарантируется, что на вход подаются только положительные целые числа, не выходящие за диапазон int."
   ]
  },
  {
   "cell_type": "code",
   "execution_count": null,
   "id": "ef79dd68",
   "metadata": {},
   "outputs": [],
   "source": [
    "num = input()\n",
    "added = set()\n",
    "counter = dict()\n",
    "for i in num:\n",
    "    if i not in counter:\n",
    "        counter[i] = 1\n",
    "    if i in counter:\n",
    "        counter[i] += 1\n",
    "\n",
    "        "
   ]
  }
 ],
 "metadata": {
  "kernelspec": {
   "display_name": "Python 3",
   "language": "python",
   "name": "python3"
  },
  "language_info": {
   "codemirror_mode": {
    "name": "ipython",
    "version": 3
   },
   "file_extension": ".py",
   "mimetype": "text/x-python",
   "name": "python",
   "nbconvert_exporter": "python",
   "pygments_lexer": "ipython3",
   "version": "3.12.1"
  }
 },
 "nbformat": 4,
 "nbformat_minor": 5
}
